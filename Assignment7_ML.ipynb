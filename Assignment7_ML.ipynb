{
 "cells": [
  {
   "cell_type": "code",
   "execution_count": 72,
   "id": "541b4b7b",
   "metadata": {},
   "outputs": [],
   "source": [
    "import pandas as pd\n",
    "df = pd.read_csv('titanic.csv')"
   ]
  },
  {
   "cell_type": "code",
   "execution_count": 73,
   "id": "55bcb5f4",
   "metadata": {},
   "outputs": [
    {
     "data": {
      "text/html": [
       "<div>\n",
       "<style scoped>\n",
       "    .dataframe tbody tr th:only-of-type {\n",
       "        vertical-align: middle;\n",
       "    }\n",
       "\n",
       "    .dataframe tbody tr th {\n",
       "        vertical-align: top;\n",
       "    }\n",
       "\n",
       "    .dataframe thead th {\n",
       "        text-align: right;\n",
       "    }\n",
       "</style>\n",
       "<table border=\"1\" class=\"dataframe\">\n",
       "  <thead>\n",
       "    <tr style=\"text-align: right;\">\n",
       "      <th></th>\n",
       "      <th>PassengerId</th>\n",
       "      <th>Survived</th>\n",
       "      <th>Pclass</th>\n",
       "      <th>Name</th>\n",
       "      <th>Sex</th>\n",
       "      <th>Age</th>\n",
       "      <th>SibSp</th>\n",
       "      <th>Parch</th>\n",
       "      <th>Ticket</th>\n",
       "      <th>Fare</th>\n",
       "      <th>Cabin</th>\n",
       "      <th>Embarked</th>\n",
       "    </tr>\n",
       "  </thead>\n",
       "  <tbody>\n",
       "    <tr>\n",
       "      <th>0</th>\n",
       "      <td>1</td>\n",
       "      <td>0</td>\n",
       "      <td>3</td>\n",
       "      <td>Braund, Mr. Owen Harris</td>\n",
       "      <td>male</td>\n",
       "      <td>22.0</td>\n",
       "      <td>1</td>\n",
       "      <td>0</td>\n",
       "      <td>A/5 21171</td>\n",
       "      <td>7.2500</td>\n",
       "      <td>NaN</td>\n",
       "      <td>S</td>\n",
       "    </tr>\n",
       "    <tr>\n",
       "      <th>1</th>\n",
       "      <td>2</td>\n",
       "      <td>1</td>\n",
       "      <td>1</td>\n",
       "      <td>Cumings, Mrs. John Bradley (Florence Briggs Th...</td>\n",
       "      <td>female</td>\n",
       "      <td>38.0</td>\n",
       "      <td>1</td>\n",
       "      <td>0</td>\n",
       "      <td>PC 17599</td>\n",
       "      <td>71.2833</td>\n",
       "      <td>C85</td>\n",
       "      <td>C</td>\n",
       "    </tr>\n",
       "    <tr>\n",
       "      <th>2</th>\n",
       "      <td>3</td>\n",
       "      <td>1</td>\n",
       "      <td>3</td>\n",
       "      <td>Heikkinen, Miss. Laina</td>\n",
       "      <td>female</td>\n",
       "      <td>26.0</td>\n",
       "      <td>0</td>\n",
       "      <td>0</td>\n",
       "      <td>STON/O2. 3101282</td>\n",
       "      <td>7.9250</td>\n",
       "      <td>NaN</td>\n",
       "      <td>S</td>\n",
       "    </tr>\n",
       "    <tr>\n",
       "      <th>3</th>\n",
       "      <td>4</td>\n",
       "      <td>1</td>\n",
       "      <td>1</td>\n",
       "      <td>Futrelle, Mrs. Jacques Heath (Lily May Peel)</td>\n",
       "      <td>female</td>\n",
       "      <td>35.0</td>\n",
       "      <td>1</td>\n",
       "      <td>0</td>\n",
       "      <td>113803</td>\n",
       "      <td>53.1000</td>\n",
       "      <td>C123</td>\n",
       "      <td>S</td>\n",
       "    </tr>\n",
       "    <tr>\n",
       "      <th>4</th>\n",
       "      <td>5</td>\n",
       "      <td>0</td>\n",
       "      <td>3</td>\n",
       "      <td>Allen, Mr. William Henry</td>\n",
       "      <td>male</td>\n",
       "      <td>35.0</td>\n",
       "      <td>0</td>\n",
       "      <td>0</td>\n",
       "      <td>373450</td>\n",
       "      <td>8.0500</td>\n",
       "      <td>NaN</td>\n",
       "      <td>S</td>\n",
       "    </tr>\n",
       "  </tbody>\n",
       "</table>\n",
       "</div>"
      ],
      "text/plain": [
       "   PassengerId  Survived  Pclass  \\\n",
       "0            1         0       3   \n",
       "1            2         1       1   \n",
       "2            3         1       3   \n",
       "3            4         1       1   \n",
       "4            5         0       3   \n",
       "\n",
       "                                                Name     Sex   Age  SibSp  \\\n",
       "0                            Braund, Mr. Owen Harris    male  22.0      1   \n",
       "1  Cumings, Mrs. John Bradley (Florence Briggs Th...  female  38.0      1   \n",
       "2                             Heikkinen, Miss. Laina  female  26.0      0   \n",
       "3       Futrelle, Mrs. Jacques Heath (Lily May Peel)  female  35.0      1   \n",
       "4                           Allen, Mr. William Henry    male  35.0      0   \n",
       "\n",
       "   Parch            Ticket     Fare Cabin Embarked  \n",
       "0      0         A/5 21171   7.2500   NaN        S  \n",
       "1      0          PC 17599  71.2833   C85        C  \n",
       "2      0  STON/O2. 3101282   7.9250   NaN        S  \n",
       "3      0            113803  53.1000  C123        S  \n",
       "4      0            373450   8.0500   NaN        S  "
      ]
     },
     "execution_count": 73,
     "metadata": {},
     "output_type": "execute_result"
    }
   ],
   "source": [
    "df.head()"
   ]
  },
  {
   "cell_type": "code",
   "execution_count": 74,
   "id": "97f674a1",
   "metadata": {},
   "outputs": [
    {
     "name": "stdout",
     "output_type": "stream",
     "text": [
      "<class 'pandas.core.frame.DataFrame'>\n",
      "RangeIndex: 891 entries, 0 to 890\n",
      "Data columns (total 12 columns):\n",
      " #   Column       Non-Null Count  Dtype  \n",
      "---  ------       --------------  -----  \n",
      " 0   PassengerId  891 non-null    int64  \n",
      " 1   Survived     891 non-null    int64  \n",
      " 2   Pclass       891 non-null    int64  \n",
      " 3   Name         891 non-null    object \n",
      " 4   Sex          891 non-null    object \n",
      " 5   Age          714 non-null    float64\n",
      " 6   SibSp        891 non-null    int64  \n",
      " 7   Parch        891 non-null    int64  \n",
      " 8   Ticket       891 non-null    object \n",
      " 9   Fare         891 non-null    float64\n",
      " 10  Cabin        204 non-null    object \n",
      " 11  Embarked     889 non-null    object \n",
      "dtypes: float64(2), int64(5), object(5)\n",
      "memory usage: 83.7+ KB\n"
     ]
    }
   ],
   "source": [
    "df.info()"
   ]
  },
  {
   "cell_type": "code",
   "execution_count": 75,
   "id": "d4963949",
   "metadata": {},
   "outputs": [
    {
     "data": {
      "text/plain": [
       "PassengerId      0\n",
       "Survived         0\n",
       "Pclass           0\n",
       "Name             0\n",
       "Sex              0\n",
       "Age            177\n",
       "SibSp            0\n",
       "Parch            0\n",
       "Ticket           0\n",
       "Fare             0\n",
       "Cabin          687\n",
       "Embarked         2\n",
       "dtype: int64"
      ]
     },
     "execution_count": 75,
     "metadata": {},
     "output_type": "execute_result"
    }
   ],
   "source": [
    "df.isna().sum()"
   ]
  },
  {
   "cell_type": "code",
   "execution_count": 76,
   "id": "30ff7f8b",
   "metadata": {},
   "outputs": [
    {
     "data": {
      "text/plain": [
       "PassengerId      int64\n",
       "Survived         int64\n",
       "Pclass           int64\n",
       "Name            object\n",
       "Sex             object\n",
       "Age            float64\n",
       "SibSp            int64\n",
       "Parch            int64\n",
       "Ticket          object\n",
       "Fare           float64\n",
       "Cabin           object\n",
       "Embarked        object\n",
       "dtype: object"
      ]
     },
     "execution_count": 76,
     "metadata": {},
     "output_type": "execute_result"
    }
   ],
   "source": [
    "df.dtypes"
   ]
  },
  {
   "cell_type": "code",
   "execution_count": 152,
   "id": "cb124a1d",
   "metadata": {},
   "outputs": [],
   "source": [
    "#Checking the skewness of data"
   ]
  },
  {
   "cell_type": "code",
   "execution_count": 77,
   "id": "4155e20b",
   "metadata": {},
   "outputs": [
    {
     "data": {
      "image/png": "[encoded data removed]",
      "text/plain": [
       "<Figure size 360x360 with 2 Axes>"
      ]
     },
     "metadata": {
      "needs_background": "light"
     },
     "output_type": "display_data"
    }
   ],
   "source": [
    "import matplotlib.pyplot as plt\n",
    "freqgraph=df.select_dtypes(include=['float'])\n",
    "freqgraph.hist(figsize=(5,5))\n",
    "plt.show()"
   ]
  },
  {
   "cell_type": "code",
   "execution_count": 78,
   "id": "c824d94b",
   "metadata": {},
   "outputs": [],
   "source": [
    "df['Fare']=df['Fare'].fillna(df['Fare'].median())"
   ]
  },
  {
   "cell_type": "code",
   "execution_count": 79,
   "id": "2bef9f05",
   "metadata": {},
   "outputs": [],
   "source": [
    "X = df[['Pclass','SibSp','Parch','Fare']]\n",
    "y = df.Survived"
   ]
  },
  {
   "cell_type": "code",
   "execution_count": 80,
   "id": "0636a686",
   "metadata": {},
   "outputs": [],
   "source": [
    "#Checking for outliers"
   ]
  },
  {
   "cell_type": "code",
   "execution_count": 81,
   "id": "fa349f46",
   "metadata": {},
   "outputs": [
    {
     "data": {
      "text/plain": [
       "Text(0.5, 1.0, 'Pclass')"
      ]
     },
     "execution_count": 81,
     "metadata": {},
     "output_type": "execute_result"
    },
    {
     "data": {
      "image/png": "[encoded data removed]",
      "text/plain": [
       "<Figure size 432x288 with 1 Axes>"
      ]
     },
     "metadata": {
      "needs_background": "light"
     },
     "output_type": "display_data"
    }
   ],
   "source": [
    "plt.boxplot(X['Pclass'])\n",
    "plt.title('Pclass')"
   ]
  },
  {
   "cell_type": "code",
   "execution_count": 150,
   "id": "d20bbdcf",
   "metadata": {},
   "outputs": [],
   "source": [
    "#No outlier"
   ]
  },
  {
   "cell_type": "code",
   "execution_count": 82,
   "id": "43f29843",
   "metadata": {},
   "outputs": [
    {
     "data": {
      "text/plain": [
       "Text(0.5, 1.0, 'SibSp')"
      ]
     },
     "execution_count": 82,
     "metadata": {},
     "output_type": "execute_result"
    },
    {
     "data": {
      "image/png": "[encoded data removed]",
      "text/plain": [
       "<Figure size 432x288 with 1 Axes>"
      ]
     },
     "metadata": {
      "needs_background": "light"
     },
     "output_type": "display_data"
    }
   ],
   "source": [
    "plt.boxplot(X['SibSp'])\n",
    "plt.title('SibSp')"
   ]
  },
  {
   "cell_type": "code",
   "execution_count": 83,
   "id": "54a747ab",
   "metadata": {},
   "outputs": [
    {
     "name": "stdout",
     "output_type": "stream",
     "text": [
      "0.0 \n",
      " 0.0 \n",
      " 1.0\n"
     ]
    }
   ],
   "source": [
    "import numpy as np\n",
    "Q1=np.percentile(X['SibSp'],25,interpolation='midpoint')\n",
    "Q2=np.percentile(X['SibSp'],50,interpolation='midpoint')\n",
    "Q3=np.percentile(X['SibSp'],75,interpolation='midpoint')\n",
    "print(Q1,'\\n',Q2,'\\n',Q3)"
   ]
  },
  {
   "cell_type": "code",
   "execution_count": 84,
   "id": "139b0a84",
   "metadata": {},
   "outputs": [
    {
     "name": "stdout",
     "output_type": "stream",
     "text": [
      "1.0 \n",
      " -1.5 \n",
      " 2.5\n"
     ]
    }
   ],
   "source": [
    "IQR=Q3-Q1\n",
    "low_limit=Q1-1.5*IQR\n",
    "Up_limit=Q3+1.5*IQR\n",
    "print(IQR,'\\n',low_limit,'\\n',Up_limit)"
   ]
  },
  {
   "cell_type": "code",
   "execution_count": 85,
   "id": "b7fa6c20",
   "metadata": {},
   "outputs": [],
   "source": [
    "outlier=[]\n",
    "for x in X['SibSp']:\n",
    "    if((x>Up_limit) or (x<low_limit)):\n",
    "        outlier.append(x)"
   ]
  },
  {
   "cell_type": "code",
   "execution_count": 86,
   "id": "4c230a3a",
   "metadata": {},
   "outputs": [
    {
     "name": "stdout",
     "output_type": "stream",
     "text": [
      "[3, 4, 3, 3, 4, 5, 3, 4, 5, 3, 3, 4, 8, 4, 4, 3, 8, 4, 8, 3, 4, 4, 4, 4, 8, 3, 3, 5, 3, 5, 3, 4, 4, 3, 3, 5, 4, 3, 4, 8, 4, 3, 4, 8, 4, 8]\n"
     ]
    }
   ],
   "source": [
    "print(outlier)"
   ]
  },
  {
   "cell_type": "code",
   "execution_count": 87,
   "id": "8c0e422f",
   "metadata": {},
   "outputs": [
    {
     "data": {
      "text/plain": [
       "Int64Index([  7,  16,  24,  27,  50,  59,  63,  68,  71,  85,  88, 119, 159,\n",
       "            164, 171, 176, 180, 182, 201, 229, 233, 261, 266, 278, 324, 341,\n",
       "            374, 386, 409, 480, 485, 541, 542, 634, 642, 683, 686, 726, 787,\n",
       "            792, 813, 819, 824, 846, 850, 863],\n",
       "           dtype='int64')"
      ]
     },
     "execution_count": 87,
     "metadata": {},
     "output_type": "execute_result"
    }
   ],
   "source": [
    "indx1=X['SibSp'][(X['SibSp']>Up_limit)|(X['SibSp']<low_limit)].index\n",
    "X.loc[indx1].index"
   ]
  },
  {
   "cell_type": "code",
   "execution_count": 88,
   "id": "a73b23c0",
   "metadata": {},
   "outputs": [],
   "source": [
    "# Dropping the outliers"
   ]
  },
  {
   "cell_type": "code",
   "execution_count": 89,
   "id": "f31e85d6",
   "metadata": {},
   "outputs": [],
   "source": [
    "df.drop([  7,  16,  24,  27,  50,  59,  63,  68,  71,  85,  88, 119, 159,\n",
    "            164, 171, 176, 180, 182, 201, 229, 233, 261, 266, 278, 324, 341,\n",
    "            374, 386, 409, 480, 485, 541, 542, 634, 642, 683, 686, 726, 787,\n",
    "            792, 813, 819, 824, 846, 850, 863],inplace=True)"
   ]
  },
  {
   "cell_type": "code",
   "execution_count": 90,
   "id": "ed5fc35a",
   "metadata": {},
   "outputs": [],
   "source": [
    "X = df[['Pclass','SibSp','Parch','Fare']]\n",
    "y = df.Survived"
   ]
  },
  {
   "cell_type": "code",
   "execution_count": 91,
   "id": "afb2d273",
   "metadata": {},
   "outputs": [
    {
     "data": {
      "text/plain": [
       "Text(0.5, 1.0, 'SibSp')"
      ]
     },
     "execution_count": 91,
     "metadata": {},
     "output_type": "execute_result"
    },
    {
     "data": {
      "image/png": "[encoded data removed]",
      "text/plain": [
       "<Figure size 432x288 with 1 Axes>"
      ]
     },
     "metadata": {
      "needs_background": "light"
     },
     "output_type": "display_data"
    }
   ],
   "source": [
    "plt.boxplot(X['SibSp'])\n",
    "plt.title('SibSp')"
   ]
  },
  {
   "cell_type": "code",
   "execution_count": 92,
   "id": "f817bc17",
   "metadata": {},
   "outputs": [],
   "source": [
    "#outlier removed"
   ]
  },
  {
   "cell_type": "code",
   "execution_count": 93,
   "id": "38dd9822",
   "metadata": {},
   "outputs": [
    {
     "data": {
      "text/plain": [
       "Text(0.5, 1.0, 'Parch')"
      ]
     },
     "execution_count": 93,
     "metadata": {},
     "output_type": "execute_result"
    },
    {
     "data": {
      "image/png": "[encoded data removed]",
      "text/plain": [
       "<Figure size 432x288 with 1 Axes>"
      ]
     },
     "metadata": {
      "needs_background": "light"
     },
     "output_type": "display_data"
    }
   ],
   "source": [
    "plt.boxplot(X['Parch'])\n",
    "plt.title('Parch')"
   ]
  },
  {
   "cell_type": "code",
   "execution_count": 94,
   "id": "59fa1715",
   "metadata": {},
   "outputs": [
    {
     "name": "stdout",
     "output_type": "stream",
     "text": [
      "0.0 \n",
      " 0.0 \n",
      " 0.0\n"
     ]
    }
   ],
   "source": [
    "Q1=np.percentile(X['Parch'],25,interpolation='midpoint')\n",
    "Q2=np.percentile(X['Parch'],50,interpolation='midpoint')\n",
    "Q3=np.percentile(X['Parch'],75,interpolation='midpoint')\n",
    "print(Q1,'\\n',Q2,'\\n',Q3)"
   ]
  },
  {
   "cell_type": "code",
   "execution_count": 95,
   "id": "8ab35a1a",
   "metadata": {},
   "outputs": [
    {
     "name": "stdout",
     "output_type": "stream",
     "text": [
      "0.0 \n",
      " 0.0 \n",
      " 0.0\n"
     ]
    }
   ],
   "source": [
    "IQR=Q3-Q1\n",
    "low_limit=Q1-1.5*IQR\n",
    "Up_limit=Q3+1.5*IQR\n",
    "print(IQR,'\\n',low_limit,'\\n',Up_limit)"
   ]
  },
  {
   "cell_type": "code",
   "execution_count": 96,
   "id": "87085b2f",
   "metadata": {},
   "outputs": [],
   "source": [
    "outlier=[]\n",
    "for x in X['Parch']:\n",
    "    if((x>Up_limit) or (x<low_limit)):\n",
    "        outlier.append(x)"
   ]
  },
  {
   "cell_type": "code",
   "execution_count": 97,
   "id": "6ca49941",
   "metadata": {},
   "outputs": [
    {
     "name": "stdout",
     "output_type": "stream",
     "text": [
      "[2, 1, 5, 5, 2, 1, 2, 1, 2, 3, 2, 1, 1, 1, 1, 1, 1, 2, 2, 1, 2, 2, 2, 1, 1, 2, 1, 4, 1, 1, 1, 2, 1, 1, 1, 1, 2, 2, 1, 1, 2, 2, 1, 1, 1, 1, 1, 1, 2, 1, 2, 2, 1, 1, 2, 1, 1, 1, 1, 1, 1, 1, 1, 1, 4, 1, 2, 2, 2, 2, 1, 1, 2, 2, 1, 1, 2, 2, 3, 4, 1, 2, 1, 1, 2, 1, 2, 1, 1, 2, 2, 1, 1, 1, 1, 2, 2, 2, 2, 1, 1, 2, 1, 4, 1, 1, 2, 1, 2, 1, 1, 2, 5, 2, 1, 1, 1, 1, 5, 1, 1, 1, 2, 1, 6, 1, 1, 2, 1, 1, 1, 1, 1, 1, 3, 2, 1, 1, 1, 1, 2, 1, 2, 3, 1, 2, 2, 1, 1, 2, 1, 1, 1, 1, 2, 1, 1, 1, 1, 1, 1, 1, 3, 1, 1, 1, 1, 5, 2]\n"
     ]
    }
   ],
   "source": [
    "print(outlier)"
   ]
  },
  {
   "cell_type": "code",
   "execution_count": 98,
   "id": "e05632f7",
   "metadata": {},
   "outputs": [
    {
     "data": {
      "text/plain": [
       "Int64Index([  8,  10,  13,  25,  43,  54,  58,  65,  78,  86,\n",
       "            ...\n",
       "            853, 855, 856, 858, 869, 871, 879, 880, 885, 888],\n",
       "           dtype='int64', length=169)"
      ]
     },
     "execution_count": 98,
     "metadata": {},
     "output_type": "execute_result"
    }
   ],
   "source": [
    "indx1=X['Parch'][(X['Parch']>Up_limit)|(X['Parch']<low_limit)].index\n",
    "X.loc[indx1].index"
   ]
  },
  {
   "cell_type": "code",
   "execution_count": 99,
   "id": "073c29f3",
   "metadata": {},
   "outputs": [],
   "source": [
    "# Dropping the outliers"
   ]
  },
  {
   "cell_type": "code",
   "execution_count": 100,
   "id": "865d918a",
   "metadata": {},
   "outputs": [],
   "source": [
    "df.drop(X.loc[indx1].index,inplace=True)"
   ]
  },
  {
   "cell_type": "code",
   "execution_count": 101,
   "id": "44e30c86",
   "metadata": {},
   "outputs": [],
   "source": [
    "X = df[['Pclass','SibSp','Parch','Fare']]\n",
    "y = df.Survived"
   ]
  },
  {
   "cell_type": "code",
   "execution_count": 102,
   "id": "92d5a8f2",
   "metadata": {},
   "outputs": [
    {
     "data": {
      "text/plain": [
       "Text(0.5, 1.0, 'Parch')"
      ]
     },
     "execution_count": 102,
     "metadata": {},
     "output_type": "execute_result"
    },
    {
     "data": {
      "image/png": "[encoded data removed]",
      "text/plain": [
       "<Figure size 432x288 with 1 Axes>"
      ]
     },
     "metadata": {
      "needs_background": "light"
     },
     "output_type": "display_data"
    }
   ],
   "source": [
    "plt.boxplot(X['Parch'])\n",
    "plt.title('Parch')"
   ]
  },
  {
   "cell_type": "code",
   "execution_count": 151,
   "id": "09d7619d",
   "metadata": {},
   "outputs": [],
   "source": [
    "#Outlier removed"
   ]
  },
  {
   "cell_type": "code",
   "execution_count": 103,
   "id": "9c99f230",
   "metadata": {},
   "outputs": [
    {
     "data": {
      "text/plain": [
       "Text(0.5, 1.0, 'Fare')"
      ]
     },
     "execution_count": 103,
     "metadata": {},
     "output_type": "execute_result"
    },
    {
     "data": {
      "image/png": "[encoded data removed]",
      "text/plain": [
       "<Figure size 432x288 with 1 Axes>"
      ]
     },
     "metadata": {
      "needs_background": "light"
     },
     "output_type": "display_data"
    }
   ],
   "source": [
    "plt.boxplot(X['Fare'])\n",
    "plt.title('Fare')"
   ]
  },
  {
   "cell_type": "code",
   "execution_count": 104,
   "id": "2fa1687f",
   "metadata": {},
   "outputs": [
    {
     "name": "stdout",
     "output_type": "stream",
     "text": [
      "7.8542 \n",
      " 10.5 \n",
      " 26.0\n"
     ]
    }
   ],
   "source": [
    "Q1=np.percentile(X['Fare'],25,interpolation='midpoint')\n",
    "Q2=np.percentile(X['Fare'],50,interpolation='midpoint')\n",
    "Q3=np.percentile(X['Fare'],75,interpolation='midpoint')\n",
    "print(Q1,'\\n',Q2,'\\n',Q3)"
   ]
  },
  {
   "cell_type": "code",
   "execution_count": 105,
   "id": "cbb7597a",
   "metadata": {},
   "outputs": [
    {
     "name": "stdout",
     "output_type": "stream",
     "text": [
      "18.1458 \n",
      " -19.364500000000003 \n",
      " 53.2187\n"
     ]
    }
   ],
   "source": [
    "IQR=Q3-Q1\n",
    "low_limit=Q1-1.5*IQR\n",
    "Up_limit=Q3+1.5*IQR\n",
    "print(IQR,'\\n',low_limit,'\\n',Up_limit)"
   ]
  },
  {
   "cell_type": "code",
   "execution_count": 106,
   "id": "58ee8a3d",
   "metadata": {},
   "outputs": [],
   "source": [
    "outlier=[]\n",
    "for x in X['Fare']:\n",
    "    if((x>Up_limit) or (x<low_limit)):\n",
    "        outlier.append(x)"
   ]
  },
  {
   "cell_type": "code",
   "execution_count": 107,
   "id": "d50a4909",
   "metadata": {},
   "outputs": [
    {
     "name": "stdout",
     "output_type": "stream",
     "text": [
      "[71.2833, 146.5208, 82.1708, 76.7292, 80.0, 83.475, 73.5, 56.4958, 61.175, 73.5, 79.2, 66.6, 56.4958, 146.5208, 113.275, 76.2917, 90.0, 83.475, 90.0, 79.2, 86.5, 512.3292, 135.6333, 77.9583, 78.85, 91.0792, 110.8833, 108.9, 56.9292, 83.1583, 135.6333, 133.65, 66.6, 134.5, 75.25, 69.3, 55.4417, 135.6333, 82.1708, 227.525, 73.5, 113.275, 90.0, 55.9, 89.1042, 91.0792, 90.0, 78.2667, 86.5, 108.9, 56.4958, 59.4, 93.5, 221.7792, 106.425, 106.425, 227.525, 55.9, 78.2667, 56.9292, 153.4625, 77.9583, 69.3, 56.4958, 76.7292, 73.5, 133.65, 73.5, 76.7292, 57.0, 56.4958, 227.525, 151.55, 227.525, 211.3375, 512.3292, 78.85, 86.5, 77.9583, 57.0, 79.2, 56.4958, 80.0, 56.4958, 89.1042]\n"
     ]
    }
   ],
   "source": [
    "print(outlier)"
   ]
  },
  {
   "cell_type": "code",
   "execution_count": 113,
   "id": "808cd9f5",
   "metadata": {},
   "outputs": [
    {
     "data": {
      "text/plain": [
       "Int64Index([], dtype='int64')"
      ]
     },
     "execution_count": 113,
     "metadata": {},
     "output_type": "execute_result"
    }
   ],
   "source": [
    "indx2=X['Fare'][(X['Fare']>Up_limit)|(X['Fare']<low_limit)].index\n",
    "X.loc[indx2].index"
   ]
  },
  {
   "cell_type": "code",
   "execution_count": 109,
   "id": "4825827d",
   "metadata": {},
   "outputs": [],
   "source": [
    "#Dropping the outliers"
   ]
  },
  {
   "cell_type": "code",
   "execution_count": 114,
   "id": "735a9e5f",
   "metadata": {},
   "outputs": [],
   "source": [
    "df.drop(X.loc[indx2].index,inplace=True)"
   ]
  },
  {
   "cell_type": "code",
   "execution_count": 115,
   "id": "ec326327",
   "metadata": {},
   "outputs": [],
   "source": [
    "X = df[['Pclass','SibSp','Parch','Fare']]\n",
    "y = df.Survived"
   ]
  },
  {
   "cell_type": "code",
   "execution_count": 118,
   "id": "3dd66076",
   "metadata": {},
   "outputs": [
    {
     "data": {
      "text/plain": [
       "Text(0.5, 1.0, 'Fare')"
      ]
     },
     "execution_count": 118,
     "metadata": {},
     "output_type": "execute_result"
    },
    {
     "data": {
      "image/png": "[encoded data removed]",
      "text/plain": [
       "<Figure size 432x288 with 1 Axes>"
      ]
     },
     "metadata": {
      "needs_background": "light"
     },
     "output_type": "display_data"
    }
   ],
   "source": [
    "plt.boxplot(X['Fare'])\n",
    "plt.title('Fare')"
   ]
  },
  {
   "cell_type": "code",
   "execution_count": 149,
   "id": "07fbaea0",
   "metadata": {},
   "outputs": [],
   "source": [
    "#Normalisation"
   ]
  },
  {
   "cell_type": "code",
   "execution_count": 119,
   "id": "2a0ba503",
   "metadata": {},
   "outputs": [
    {
     "data": {
      "text/html": [
       "<div>\n",
       "<style scoped>\n",
       "    .dataframe tbody tr th:only-of-type {\n",
       "        vertical-align: middle;\n",
       "    }\n",
       "\n",
       "    .dataframe tbody tr th {\n",
       "        vertical-align: top;\n",
       "    }\n",
       "\n",
       "    .dataframe thead th {\n",
       "        text-align: right;\n",
       "    }\n",
       "</style>\n",
       "<table border=\"1\" class=\"dataframe\">\n",
       "  <thead>\n",
       "    <tr style=\"text-align: right;\">\n",
       "      <th></th>\n",
       "      <th>0</th>\n",
       "      <th>1</th>\n",
       "      <th>2</th>\n",
       "      <th>3</th>\n",
       "    </tr>\n",
       "  </thead>\n",
       "  <tbody>\n",
       "    <tr>\n",
       "      <th>count</th>\n",
       "      <td>591.000000</td>\n",
       "      <td>591.000000</td>\n",
       "      <td>591.0</td>\n",
       "      <td>591.000000</td>\n",
       "    </tr>\n",
       "    <tr>\n",
       "      <th>mean</th>\n",
       "      <td>0.265197</td>\n",
       "      <td>0.010815</td>\n",
       "      <td>0.0</td>\n",
       "      <td>0.934929</td>\n",
       "    </tr>\n",
       "    <tr>\n",
       "      <th>std</th>\n",
       "      <td>0.175883</td>\n",
       "      <td>0.029999</td>\n",
       "      <td>0.0</td>\n",
       "      <td>0.154015</td>\n",
       "    </tr>\n",
       "    <tr>\n",
       "      <th>min</th>\n",
       "      <td>0.018826</td>\n",
       "      <td>0.000000</td>\n",
       "      <td>0.0</td>\n",
       "      <td>0.000000</td>\n",
       "    </tr>\n",
       "    <tr>\n",
       "      <th>25%</th>\n",
       "      <td>0.152057</td>\n",
       "      <td>0.000000</td>\n",
       "      <td>0.0</td>\n",
       "      <td>0.932958</td>\n",
       "    </tr>\n",
       "    <tr>\n",
       "      <th>50%</th>\n",
       "      <td>0.327251</td>\n",
       "      <td>0.000000</td>\n",
       "      <td>0.0</td>\n",
       "      <td>0.944937</td>\n",
       "    </tr>\n",
       "    <tr>\n",
       "      <th>75%</th>\n",
       "      <td>0.359984</td>\n",
       "      <td>0.000000</td>\n",
       "      <td>0.0</td>\n",
       "      <td>0.988372</td>\n",
       "    </tr>\n",
       "    <tr>\n",
       "      <th>max</th>\n",
       "      <td>1.000000</td>\n",
       "      <td>0.229710</td>\n",
       "      <td>0.0</td>\n",
       "      <td>0.999815</td>\n",
       "    </tr>\n",
       "  </tbody>\n",
       "</table>\n",
       "</div>"
      ],
      "text/plain": [
       "                0           1      2           3\n",
       "count  591.000000  591.000000  591.0  591.000000\n",
       "mean     0.265197    0.010815    0.0    0.934929\n",
       "std      0.175883    0.029999    0.0    0.154015\n",
       "min      0.018826    0.000000    0.0    0.000000\n",
       "25%      0.152057    0.000000    0.0    0.932958\n",
       "50%      0.327251    0.000000    0.0    0.944937\n",
       "75%      0.359984    0.000000    0.0    0.988372\n",
       "max      1.000000    0.229710    0.0    0.999815"
      ]
     },
     "execution_count": 119,
     "metadata": {},
     "output_type": "execute_result"
    }
   ],
   "source": [
    "from sklearn import preprocessing\n",
    "X=preprocessing.normalize(X)\n",
    "X=pd.DataFrame(X)\n",
    "X.describe()"
   ]
  },
  {
   "cell_type": "code",
   "execution_count": 148,
   "id": "91b50f46",
   "metadata": {},
   "outputs": [],
   "source": [
    "# Splitting to test train"
   ]
  },
  {
   "cell_type": "code",
   "execution_count": 121,
   "id": "fbcfe8fc",
   "metadata": {},
   "outputs": [],
   "source": [
    "from sklearn.model_selection import train_test_split\n",
    "X_train,X_test,Y_train,Y_test=train_test_split(X,y,random_state=42,test_size=0.2)"
   ]
  },
  {
   "cell_type": "markdown",
   "id": "4c622d05",
   "metadata": {},
   "source": [
    "# Classification using SVM"
   ]
  },
  {
   "cell_type": "code",
   "execution_count": 122,
   "id": "7e902283",
   "metadata": {},
   "outputs": [],
   "source": [
    "from sklearn.svm import SVC\n",
    "svm_linear=SVC(kernel = 'linear', C = 1, gamma = 'auto')\n",
    "svm_linear.fit(X_train,Y_train)\n",
    "Y_predictions=svm_linear.predict(X_test)"
   ]
  },
  {
   "cell_type": "code",
   "execution_count": 126,
   "id": "e036235b",
   "metadata": {},
   "outputs": [
    {
     "name": "stdout",
     "output_type": "stream",
     "text": [
      "Confusion matrix\n",
      " [[83  0]\n",
      " [36  0]]\n",
      "Accuracy is:  0.6974789915966386\n",
      "Recall is:  0.5\n",
      "f1 is:  0.41089108910891087\n"
     ]
    }
   ],
   "source": [
    "from sklearn.metrics import confusion_matrix,accuracy_score,recall_score,f1_score\n",
    "print('Confusion matrix\\n',confusion_matrix(Y_test,Y_predictions))\n",
    "print('Accuracy is: ',accuracy_score(Y_test,Y_predictions))\n",
    "print('Recall is: ' ,recall_score(Y_test,Y_predictions,average='macro'))\n",
    "print('f1 is: ' ,f1_score(Y_test,Y_predictions,average='macro'))"
   ]
  },
  {
   "cell_type": "markdown",
   "id": "4e0470dc",
   "metadata": {},
   "source": [
    "# Random Search Tuning"
   ]
  },
  {
   "cell_type": "code",
   "execution_count": 127,
   "id": "bbfba910",
   "metadata": {},
   "outputs": [
    {
     "name": "stdout",
     "output_type": "stream",
     "text": [
      "Cross Validation Scores are [0.69747899 0.68644068 0.72881356 0.70338983 0.77118644]\n",
      "Average Cross Validation score :0.717461900014243\n"
     ]
    }
   ],
   "source": [
    "from sklearn.model_selection import cross_val_score,KFold\n",
    "model = SVC(kernel = 'linear', C = 1, gamma = 'auto')\n",
    "kf=KFold(n_splits=5)\n",
    "score=cross_val_score(model,X,y,cv=kf)\n",
    "print(\"Cross Validation Scores are {}\".format(score))\n",
    "print(\"Average Cross Validation score :{}\".format(score.mean()))"
   ]
  },
  {
   "cell_type": "code",
   "execution_count": 138,
   "id": "2ed22bd5",
   "metadata": {},
   "outputs": [
    {
     "name": "stdout",
     "output_type": "stream",
     "text": [
      "Best Score: 72.24636058230682\n",
      "Best Params: {'kernel': 'rbf', 'gamma': 1, 'C': 0.1}\n"
     ]
    }
   ],
   "source": [
    "parameters ={'C' : [0.1, 1, 10, 100, 1000],\n",
    "     'gamma' : [1, 0.1, 0.01, 0.001, 0.0001],\n",
    "     'kernel' : ['rbf']}\n",
    "from sklearn.model_selection import RandomizedSearchCV\n",
    "random_search = RandomizedSearchCV(model, parameters, n_iter = 25)\n",
    "random_result = random_search.fit(X_train, Y_train)\n",
    "print('Best Score:', random_result.best_score_*100)\n",
    "print('Best Params:', random_result.best_params_)"
   ]
  },
  {
   "cell_type": "markdown",
   "id": "bdffa53b",
   "metadata": {},
   "source": [
    "# Hyperopt Tuning"
   ]
  },
  {
   "cell_type": "code",
   "execution_count": 142,
   "id": "07d0dddc",
   "metadata": {},
   "outputs": [
    {
     "name": "stdout",
     "output_type": "stream",
     "text": [
      "Collecting hyperopt\n",
      "  Downloading hyperopt-0.2.7-py2.py3-none-any.whl (1.6 MB)\n",
      "Requirement already satisfied: scipy in c:\\users\\docsh\\anaconda3\\lib\\site-packages (from hyperopt) (1.7.3)\n",
      "Collecting py4j\n",
      "  Downloading py4j-0.10.9.7-py2.py3-none-any.whl (200 kB)\n",
      "Requirement already satisfied: six in c:\\users\\docsh\\anaconda3\\lib\\site-packages (from hyperopt) (1.16.0)\n",
      "Requirement already satisfied: tqdm in c:\\users\\docsh\\anaconda3\\lib\\site-packages (from hyperopt) (4.64.0)\n",
      "Requirement already satisfied: cloudpickle in c:\\users\\docsh\\anaconda3\\lib\\site-packages (from hyperopt) (2.0.0)\n",
      "Requirement already satisfied: numpy in c:\\users\\docsh\\anaconda3\\lib\\site-packages (from hyperopt) (1.21.5)\n",
      "Requirement already satisfied: networkx>=2.2 in c:\\users\\docsh\\anaconda3\\lib\\site-packages (from hyperopt) (2.7.1)\n",
      "Requirement already satisfied: future in c:\\users\\docsh\\anaconda3\\lib\\site-packages (from hyperopt) (0.18.2)\n",
      "Requirement already satisfied: colorama in c:\\users\\docsh\\anaconda3\\lib\\site-packages (from tqdm->hyperopt) (0.4.4)\n",
      "Installing collected packages: py4j, hyperopt\n",
      "Successfully installed hyperopt-0.2.7 py4j-0.10.9.7\n",
      "Note: you may need to restart the kernel to use updated packages.\n"
     ]
    }
   ],
   "source": [
    "pip install hyperopt"
   ]
  },
  {
   "cell_type": "code",
   "execution_count": 144,
   "id": "bb6e0340",
   "metadata": {},
   "outputs": [],
   "source": [
    "from hyperopt import tpe, hp, fmin, STATUS_OK,Trials\n"
   ]
  },
  {
   "cell_type": "code",
   "execution_count": 145,
   "id": "c650a336",
   "metadata": {},
   "outputs": [],
   "source": [
    "space = {'C': hp.choice('C', [0.1, 1, 10, 100, 1000]), \n",
    "              'gamma': hp.choice('gamma', [1, 0.1, 0.01, 0.001, 0.0001]),\n",
    "              'kernel':  hp.choice('kernel', ['rbf'])} \n",
    "def hyperparameter_tuning(params):\n",
    "    clf = SVC(**params)\n",
    "    acc = cross_val_score(clf, X_train, Y_train,scoring=\"accuracy\").mean()\n",
    "    return {\"loss\": -acc, \"status\": STATUS_OK}"
   ]
  },
  {
   "cell_type": "code",
   "execution_count": 146,
   "id": "32fb4650",
   "metadata": {},
   "outputs": [
    {
     "name": "stdout",
     "output_type": "stream",
     "text": [
      "100%|███████████████████████████████████████████████| 50/50 [00:02<00:00, 22.75trial/s, best loss: -0.7224636058230682]\n",
      "Best: {'C': 2, 'gamma': 2, 'kernel': 0}\n"
     ]
    }
   ],
   "source": [
    "from sklearn.model_selection import cross_val_score\n",
    "# Initialize trials object\n",
    "trials = Trials()\n",
    "\n",
    "best = fmin(\n",
    "    fn=hyperparameter_tuning,\n",
    "    space = space, \n",
    "    algo=tpe.suggest, \n",
    "    max_evals=50, \n",
    "    trials=trials\n",
    ")\n",
    "\n",
    "print(\"Best: {}\".format(best))"
   ]
  },
  {
   "cell_type": "code",
   "execution_count": 147,
   "id": "c524f155",
   "metadata": {},
   "outputs": [
    {
     "data": {
      "text/plain": [
       "[{'loss': -0.7224636058230682, 'status': 'ok'},\n",
       " {'loss': -0.7224636058230682, 'status': 'ok'},\n",
       " {'loss': -0.7224636058230682, 'status': 'ok'},\n",
       " {'loss': -0.7224636058230682, 'status': 'ok'},\n",
       " {'loss': -0.7224636058230682, 'status': 'ok'},\n",
       " {'loss': -0.7224636058230682, 'status': 'ok'},\n",
       " {'loss': -0.7224636058230682, 'status': 'ok'},\n",
       " {'loss': -0.7224636058230682, 'status': 'ok'},\n",
       " {'loss': -0.7224636058230682, 'status': 'ok'},\n",
       " {'loss': -0.7224636058230682, 'status': 'ok'},\n",
       " {'loss': -0.7224636058230682, 'status': 'ok'},\n",
       " {'loss': -0.7224636058230682, 'status': 'ok'},\n",
       " {'loss': -0.7224636058230682, 'status': 'ok'},\n",
       " {'loss': -0.7224636058230682, 'status': 'ok'},\n",
       " {'loss': -0.7224636058230682, 'status': 'ok'},\n",
       " {'loss': -0.7224636058230682, 'status': 'ok'},\n",
       " {'loss': -0.7224636058230682, 'status': 'ok'},\n",
       " {'loss': -0.7224636058230682, 'status': 'ok'},\n",
       " {'loss': -0.7224636058230682, 'status': 'ok'},\n",
       " {'loss': -0.7224636058230682, 'status': 'ok'},\n",
       " {'loss': -0.7224636058230682, 'status': 'ok'},\n",
       " {'loss': -0.7224636058230682, 'status': 'ok'},\n",
       " {'loss': -0.7224636058230682, 'status': 'ok'},\n",
       " {'loss': -0.7224636058230682, 'status': 'ok'},\n",
       " {'loss': -0.7224636058230682, 'status': 'ok'},\n",
       " {'loss': -0.7224636058230682, 'status': 'ok'},\n",
       " {'loss': -0.7224636058230682, 'status': 'ok'},\n",
       " {'loss': -0.7224636058230682, 'status': 'ok'},\n",
       " {'loss': -0.7224636058230682, 'status': 'ok'},\n",
       " {'loss': -0.7224636058230682, 'status': 'ok'},\n",
       " {'loss': -0.7224636058230682, 'status': 'ok'},\n",
       " {'loss': -0.7224636058230682, 'status': 'ok'},\n",
       " {'loss': -0.7224636058230682, 'status': 'ok'},\n",
       " {'loss': -0.7224636058230682, 'status': 'ok'},\n",
       " {'loss': -0.7224636058230682, 'status': 'ok'},\n",
       " {'loss': -0.7224636058230682, 'status': 'ok'},\n",
       " {'loss': -0.7224636058230682, 'status': 'ok'},\n",
       " {'loss': -0.7224636058230682, 'status': 'ok'},\n",
       " {'loss': -0.7224636058230682, 'status': 'ok'},\n",
       " {'loss': -0.7224636058230682, 'status': 'ok'},\n",
       " {'loss': -0.7224636058230682, 'status': 'ok'},\n",
       " {'loss': -0.7224636058230682, 'status': 'ok'},\n",
       " {'loss': -0.7224636058230682, 'status': 'ok'},\n",
       " {'loss': -0.7224636058230682, 'status': 'ok'},\n",
       " {'loss': -0.7224636058230682, 'status': 'ok'},\n",
       " {'loss': -0.7224636058230682, 'status': 'ok'},\n",
       " {'loss': -0.7224636058230682, 'status': 'ok'},\n",
       " {'loss': -0.7224636058230682, 'status': 'ok'},\n",
       " {'loss': -0.7224636058230682, 'status': 'ok'},\n",
       " {'loss': -0.7224636058230682, 'status': 'ok'}]"
      ]
     },
     "execution_count": 147,
     "metadata": {},
     "output_type": "execute_result"
    }
   ],
   "source": [
    "trials.results"
   ]
  },
  {
   "cell_type": "code",
   "execution_count": null,
   "id": "02beb541",
   "metadata": {},
   "outputs": [],
   "source": []
  }
 ],
 "metadata": {
  "kernelspec": {
   "display_name": "Python 3 (ipykernel)",
   "language": "python",
   "name": "python3"
  },
  "language_info": {
   "codemirror_mode": {
    "name": "ipython",
    "version": 3
   },
   "file_extension": ".py",
   "mimetype": "text/x-python",
   "name": "python",
   "nbconvert_exporter": "python",
   "pygments_lexer": "ipython3",
   "version": "3.9.12"
  }
 },
 "nbformat": 4,
 "nbformat_minor": 5
}
